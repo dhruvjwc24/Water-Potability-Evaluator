{
  "cells": [
    {
      "cell_type": "code",
      "execution_count": null,
      "metadata": {
        "id": "bw-6LMGZvGbq"
      },
      "outputs": [],
      "source": [
        "from keras.models import load_model\n",
        "import numpy as np"
      ]
    },
    {
      "cell_type": "code",
      "execution_count": null,
      "metadata": {
        "id": "0wLe1AGQvJde"
      },
      "outputs": [],
      "source": [
        "model = load_model(\"getPotabilityModel.h5\")"
      ]
    },
    {
      "cell_type": "code",
      "execution_count": null,
      "metadata": {
        "colab": {
          "base_uri": "https://localhost:8080/"
        },
        "id": "KaRK2lujvL4k",
        "outputId": "b29f2a0c-63ab-4584-b2db-a77604336490"
      },
      "outputs": [],
      "source": [
        "print(\"Enter Parameters:\")\n",
        "ph = float(input(\"\\tPh --> \"))\n",
        "hardness = float(input(\"\\tHardness --> \"))\n",
        "solids = float(input(\"\\tSolids --> \"))\n",
        "chloramines = float(input(\"\\tChloramines --> \"))\n",
        "sulfate = float(input(\"\\tSulfate --> \"))\n",
        "conductivity = float(input(\"\\tConductivity --> \"))\n",
        "organicCarbon = float(input(\"\\tOrganic Carbon --> \"))\n",
        "trihalomethanes = float(input(\"\\tTrihalomethanes --> \"))\n",
        "turbidity = float(input(\"\\tTurbidity --> \"))\n",
        "\n",
        "instance = np.array([ph, hardness, solids, chloramines, sulfate, conductivity, organicCarbon, trihalomethanes, turbidity])\n",
        "instance = np.reshape(instance, (1, 9))\n",
        "pred = model.predict(instance)[0][0]\n",
        "\n",
        "print(f\"Model Prediction: {pred}\")\n",
        "if(pred <= 0.12):\n",
        "  print(\"95% confident that sample is safe for consumption\")\n",
        "else:\n",
        "  print(\"Sample may not be safe for consumption\")\n",
        "\n"
      ]
    }
  ],
  "metadata": {
    "colab": {
      "provenance": []
    },
    "kernelspec": {
      "display_name": "Python 3",
      "language": "python",
      "name": "python3"
    },
    "language_info": {
      "codemirror_mode": {
        "name": "ipython",
        "version": 3
      },
      "file_extension": ".py",
      "mimetype": "text/x-python",
      "name": "python",
      "nbconvert_exporter": "python",
      "pygments_lexer": "ipython3",
      "version": "3.10.4"
    },
    "vscode": {
      "interpreter": {
        "hash": "aee8b7b246df8f9039afb4144a1f6fd8d2ca17a180786b69acc140d282b71a49"
      }
    }
  },
  "nbformat": 4,
  "nbformat_minor": 0
}
